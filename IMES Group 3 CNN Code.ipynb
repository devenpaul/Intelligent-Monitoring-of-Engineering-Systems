{
 "cells": [
  {
   "cell_type": "code",
   "execution_count": 1,
   "id": "eb09a2cd",
   "metadata": {},
   "outputs": [],
   "source": [
    "import pandas as pd\n",
    "import numpy as np\n",
    "from sklearn.model_selection import train_test_split\n",
    "from sklearn.preprocessing import StandardScaler\n",
    "from sklearn.impute import SimpleImputer\n",
    "import tensorflow as tf\n",
    "from tensorflow.keras.models import Model, Sequential\n",
    "from tensorflow.keras.layers import Conv1D, Dense, Flatten, MaxPooling1D, Input\n",
    "from tensorflow.keras.utils import to_categorical\n",
    "from tensorflow.keras.optimizers import Adam\n",
    "from sklearn.utils.class_weight import compute_class_weight\n",
    "\n",
    "# Load the CSV data\n",
    "data = pd.read_csv(r'C:\\Users\\deven\\Desktop\\IMES\\Project\\Merged_df_v4.csv')"
   ]
  },
  {
   "cell_type": "code",
   "execution_count": 2,
   "id": "fa1b6fe4",
   "metadata": {},
   "outputs": [],
   "source": [
    "# Define input and output variables (excluding Frequency and Frequency_Location)\n",
    "X = data[['Time', 'AccX_Filtered', 'AccY_Filtered', 'AccZ_Filtered', 'Section']]\n",
    "y = data[['Damping_Location', 'Inclination_Location']]"
   ]
  },
  {
   "cell_type": "code",
   "execution_count": 3,
   "id": "17c54e2a",
   "metadata": {},
   "outputs": [],
   "source": [
    "imputer = SimpleImputer(strategy='mean')\n",
    "X_imputed = imputer.fit_transform(X)\n",
    "\n",
    "scaler = StandardScaler()\n",
    "X_scaled = scaler.fit_transform(X_imputed)\n",
    "\n",
    "X_scaled = X_scaled.reshape((X_scaled.shape[0], X_scaled.shape[1], 1))"
   ]
  },
  {
   "cell_type": "code",
   "execution_count": 4,
   "id": "44e73ddb",
   "metadata": {},
   "outputs": [],
   "source": [
    "X_train, X_test, y_train, y_test = train_test_split(X_scaled, y, test_size=0.3, random_state=42)"
   ]
  },
  {
   "cell_type": "code",
   "execution_count": 5,
   "id": "26b5420e",
   "metadata": {},
   "outputs": [
    {
     "name": "stdout",
     "output_type": "stream",
     "text": [
      "Epoch 1/10\n",
      "4331/4331 [==============================] - 29s 6ms/step - loss: 0.1428 - accuracy: 0.9465 - val_loss: 0.1383 - val_accuracy: 0.9459\n",
      "Epoch 2/10\n",
      "4331/4331 [==============================] - 27s 6ms/step - loss: 0.1358 - accuracy: 0.9466 - val_loss: 0.1367 - val_accuracy: 0.9459\n",
      "Epoch 3/10\n",
      "4331/4331 [==============================] - 27s 6ms/step - loss: 0.1350 - accuracy: 0.9467 - val_loss: 0.1358 - val_accuracy: 0.9459\n",
      "Epoch 4/10\n",
      "4331/4331 [==============================] - 26s 6ms/step - loss: 0.1342 - accuracy: 0.9468 - val_loss: 0.1363 - val_accuracy: 0.9460\n",
      "Epoch 5/10\n",
      "4331/4331 [==============================] - 25s 6ms/step - loss: 0.1337 - accuracy: 0.9468 - val_loss: 0.1359 - val_accuracy: 0.9459\n",
      "Epoch 6/10\n",
      "4331/4331 [==============================] - 24s 6ms/step - loss: 0.1332 - accuracy: 0.9469 - val_loss: 0.1351 - val_accuracy: 0.9459\n",
      "Epoch 7/10\n",
      "4331/4331 [==============================] - 25s 6ms/step - loss: 0.1329 - accuracy: 0.9470 - val_loss: 0.1346 - val_accuracy: 0.9461\n",
      "Epoch 8/10\n",
      "4331/4331 [==============================] - 25s 6ms/step - loss: 0.1325 - accuracy: 0.9470 - val_loss: 0.1341 - val_accuracy: 0.9461\n",
      "Epoch 9/10\n",
      "4331/4331 [==============================] - 25s 6ms/step - loss: 0.1322 - accuracy: 0.9470 - val_loss: 0.1337 - val_accuracy: 0.9462\n",
      "Epoch 10/10\n",
      "4331/4331 [==============================] - 25s 6ms/step - loss: 0.1319 - accuracy: 0.9471 - val_loss: 0.1333 - val_accuracy: 0.9463\n",
      "Epoch 1/10\n",
      "4331/4331 [==============================] - 27s 6ms/step - loss: 0.0987 - accuracy: 0.9685 - val_loss: 0.0899 - val_accuracy: 0.9692\n",
      "Epoch 2/10\n",
      "4331/4331 [==============================] - 25s 6ms/step - loss: 0.0914 - accuracy: 0.9686 - val_loss: 0.0894 - val_accuracy: 0.9692\n",
      "Epoch 3/10\n",
      "4331/4331 [==============================] - 25s 6ms/step - loss: 0.0902 - accuracy: 0.9687 - val_loss: 0.0875 - val_accuracy: 0.9695\n",
      "Epoch 4/10\n",
      "4331/4331 [==============================] - 27s 6ms/step - loss: 0.0894 - accuracy: 0.9689 - val_loss: 0.0869 - val_accuracy: 0.9697\n",
      "Epoch 5/10\n",
      "4331/4331 [==============================] - 24s 6ms/step - loss: 0.0888 - accuracy: 0.9690 - val_loss: 0.0872 - val_accuracy: 0.9698\n",
      "Epoch 6/10\n",
      "4331/4331 [==============================] - 25s 6ms/step - loss: 0.0883 - accuracy: 0.9690 - val_loss: 0.0882 - val_accuracy: 0.9694\n",
      "Epoch 7/10\n",
      "4331/4331 [==============================] - 25s 6ms/step - loss: 0.0881 - accuracy: 0.9692 - val_loss: 0.0863 - val_accuracy: 0.9701\n",
      "Epoch 8/10\n",
      "4331/4331 [==============================] - 27s 6ms/step - loss: 0.0878 - accuracy: 0.9691 - val_loss: 0.0866 - val_accuracy: 0.9695\n",
      "Epoch 9/10\n",
      "4331/4331 [==============================] - 25s 6ms/step - loss: 0.0874 - accuracy: 0.9693 - val_loss: 0.0869 - val_accuracy: 0.9699\n",
      "Epoch 10/10\n",
      "4331/4331 [==============================] - 25s 6ms/step - loss: 0.0872 - accuracy: 0.9692 - val_loss: 0.0864 - val_accuracy: 0.9701\n"
     ]
    },
    {
     "data": {
      "text/plain": [
       "<keras.src.callbacks.History at 0x223d19ec400>"
      ]
     },
     "execution_count": 5,
     "metadata": {},
     "output_type": "execute_result"
    }
   ],
   "source": [
    "# Define a helper function to create a model for Damping and Inclination Location\n",
    "def create_location_model(output_units, output_activation, loss_function):\n",
    "    inputs = Input(shape=(X_train.shape[1], 1))\n",
    "    x = Conv1D(filters=32, kernel_size=2, activation='relu', padding='same')(inputs)\n",
    "    x = MaxPooling1D(pool_size=2, padding='same')(x)\n",
    "    x = Conv1D(filters=64, kernel_size=2, activation='relu', padding='same')(x)\n",
    "    x = MaxPooling1D(pool_size=2, padding='same')(x)\n",
    "    x = Conv1D(filters=128, kernel_size=2, activation='relu', padding='same')(x)\n",
    "    x = MaxPooling1D(pool_size=2, padding='same')(x)\n",
    "    x = Flatten()(x)\n",
    "    outputs = Dense(output_units, activation=output_activation)(x)\n",
    "    model = Model(inputs=inputs, outputs=outputs)\n",
    "    return model\n",
    "\n",
    "# Model for damping location\n",
    "model_damp_loc = create_location_model(y_train['Damping_Location'].nunique(), 'softmax', 'binary_crossentropy')\n",
    "model_damp_loc.compile(optimizer=Adam(learning_rate=0.001), loss='binary_crossentropy', metrics=['accuracy'])\n",
    "model_damp_loc.fit(X_train, to_categorical(y_train['Damping_Location']), epochs=10, batch_size=64, validation_split=0.2)\n",
    "\n",
    "# Model for inclination location\n",
    "model_incl_loc = create_location_model(y_train['Inclination_Location'].nunique(), 'softmax', 'binary_crossentropy')\n",
    "model_incl_loc.compile(optimizer=Adam(learning_rate=0.001), loss='binary_crossentropy', metrics=['accuracy'])\n",
    "model_incl_loc.fit(X_train, to_categorical(y_train['Inclination_Location']), epochs=10, batch_size=64, validation_split=0.2)"
   ]
  },
  {
   "cell_type": "code",
   "execution_count": 6,
   "id": "9d2cea4a",
   "metadata": {},
   "outputs": [
    {
     "name": "stdout",
     "output_type": "stream",
     "text": [
      "4641/4641 [==============================] - 11s 2ms/step\n",
      "4641/4641 [==============================] - 11s 2ms/step\n",
      "        Predicted_Damping_Location  Predicted_Inclination_Location\n",
      "148480                           0                               0\n",
      "148481                           0                               0\n",
      "148482                           0                               0\n",
      "148483                           0                               0\n",
      "148484                           0                               0\n",
      "148485                           0                               0\n",
      "148486                           0                               0\n",
      "148487                           0                               0\n",
      "148488                           0                               0\n",
      "148489                           0                               0\n"
     ]
    }
   ],
   "source": [
    "# Make predictions with each model\n",
    "y_pred_damp_loc = model_damp_loc.predict(X_test)\n",
    "y_pred_incl_loc = model_incl_loc.predict(X_test)\n",
    "\n",
    "# Decode predictions\n",
    "y_pred_damp_loc_decoded = np.argmax(y_pred_damp_loc, axis=1)\n",
    "y_pred_incl_loc_decoded = np.argmax(y_pred_incl_loc, axis=1)\n",
    "\n",
    "# Create a DataFrame to see the results\n",
    "predictions_df = pd.DataFrame({\n",
    "    'Predicted_Damping_Location': y_pred_damp_loc_decoded,\n",
    "    'Predicted_Inclination_Location': y_pred_incl_loc_decoded\n",
    "})\n",
    "\n",
    "# Display the predictions\n",
    "print(predictions_df.tail(10))"
   ]
  },
  {
   "cell_type": "code",
   "execution_count": 7,
   "id": "d610676b",
   "metadata": {},
   "outputs": [],
   "source": [
    "# predictions_df.to_csv(r'E:\\RWTH\\Sem2\\IMES\\Trainedset_v2.csv')"
   ]
  },
  {
   "cell_type": "code",
   "execution_count": 14,
   "id": "48c20fec",
   "metadata": {},
   "outputs": [
    {
     "data": {
      "text/plain": [
       "(49983, 10)"
      ]
     },
     "execution_count": 14,
     "metadata": {},
     "output_type": "execute_result"
    }
   ],
   "source": [
    "data = pd.read_csv(r'C:\\Users\\deven\\Desktop\\IMES\\Project\\Test_v1\\Test_v2.csv')\n",
    "data.shape"
   ]
  },
  {
   "cell_type": "code",
   "execution_count": 15,
   "id": "dd06725e",
   "metadata": {},
   "outputs": [
    {
     "data": {
      "text/plain": [
       "(49983, 5)"
      ]
     },
     "execution_count": 15,
     "metadata": {},
     "output_type": "execute_result"
    }
   ],
   "source": [
    "data = data.drop(['Group number', 'Case number', 'Absolute acceleration (m/s^2)','Frequency','Frequency_Location'], axis =1)\n",
    "data.shape"
   ]
  },
  {
   "cell_type": "code",
   "execution_count": 16,
   "id": "7e9c258b",
   "metadata": {},
   "outputs": [
    {
     "data": {
      "text/html": [
       "<div>\n",
       "<style scoped>\n",
       "    .dataframe tbody tr th:only-of-type {\n",
       "        vertical-align: middle;\n",
       "    }\n",
       "\n",
       "    .dataframe tbody tr th {\n",
       "        vertical-align: top;\n",
       "    }\n",
       "\n",
       "    .dataframe thead th {\n",
       "        text-align: right;\n",
       "    }\n",
       "</style>\n",
       "<table border=\"1\" class=\"dataframe\">\n",
       "  <thead>\n",
       "    <tr style=\"text-align: right;\">\n",
       "      <th></th>\n",
       "      <th>Time (s)</th>\n",
       "      <th>Linear Acceleration x (m/s^2)</th>\n",
       "      <th>Linear Acceleration y (m/s^2)</th>\n",
       "      <th>Linear Acceleration z (m/s^2)</th>\n",
       "      <th>Section</th>\n",
       "    </tr>\n",
       "  </thead>\n",
       "  <tbody>\n",
       "    <tr>\n",
       "      <th>44983</th>\n",
       "      <td>24.543369</td>\n",
       "      <td>-2.737154</td>\n",
       "      <td>2.317677</td>\n",
       "      <td>28.762552</td>\n",
       "      <td>5</td>\n",
       "    </tr>\n",
       "    <tr>\n",
       "      <th>44984</th>\n",
       "      <td>24.548369</td>\n",
       "      <td>0.478224</td>\n",
       "      <td>0.850334</td>\n",
       "      <td>-10.163772</td>\n",
       "      <td>5</td>\n",
       "    </tr>\n",
       "    <tr>\n",
       "      <th>44985</th>\n",
       "      <td>24.553369</td>\n",
       "      <td>0.835628</td>\n",
       "      <td>-0.861210</td>\n",
       "      <td>-8.116422</td>\n",
       "      <td>5</td>\n",
       "    </tr>\n",
       "    <tr>\n",
       "      <th>44986</th>\n",
       "      <td>24.558369</td>\n",
       "      <td>0.940185</td>\n",
       "      <td>-1.352423</td>\n",
       "      <td>3.283479</td>\n",
       "      <td>5</td>\n",
       "    </tr>\n",
       "    <tr>\n",
       "      <th>44987</th>\n",
       "      <td>24.563369</td>\n",
       "      <td>0.216398</td>\n",
       "      <td>1.000855</td>\n",
       "      <td>-6.343028</td>\n",
       "      <td>5</td>\n",
       "    </tr>\n",
       "    <tr>\n",
       "      <th>...</th>\n",
       "      <td>...</td>\n",
       "      <td>...</td>\n",
       "      <td>...</td>\n",
       "      <td>...</td>\n",
       "      <td>...</td>\n",
       "    </tr>\n",
       "    <tr>\n",
       "      <th>49978</th>\n",
       "      <td>49.518370</td>\n",
       "      <td>-0.097531</td>\n",
       "      <td>0.246785</td>\n",
       "      <td>-0.046586</td>\n",
       "      <td>2</td>\n",
       "    </tr>\n",
       "    <tr>\n",
       "      <th>49979</th>\n",
       "      <td>49.523370</td>\n",
       "      <td>0.000420</td>\n",
       "      <td>0.305819</td>\n",
       "      <td>-0.467093</td>\n",
       "      <td>2</td>\n",
       "    </tr>\n",
       "    <tr>\n",
       "      <th>49980</th>\n",
       "      <td>49.528370</td>\n",
       "      <td>0.080823</td>\n",
       "      <td>-0.409701</td>\n",
       "      <td>0.436840</td>\n",
       "      <td>2</td>\n",
       "    </tr>\n",
       "    <tr>\n",
       "      <th>49981</th>\n",
       "      <td>49.533370</td>\n",
       "      <td>-0.072530</td>\n",
       "      <td>0.159599</td>\n",
       "      <td>-0.059052</td>\n",
       "      <td>2</td>\n",
       "    </tr>\n",
       "    <tr>\n",
       "      <th>49982</th>\n",
       "      <td>49.538370</td>\n",
       "      <td>-0.014167</td>\n",
       "      <td>0.372183</td>\n",
       "      <td>-0.492480</td>\n",
       "      <td>2</td>\n",
       "    </tr>\n",
       "  </tbody>\n",
       "</table>\n",
       "<p>5000 rows × 5 columns</p>\n",
       "</div>"
      ],
      "text/plain": [
       "        Time (s)  Linear Acceleration x (m/s^2)  \\\n",
       "44983  24.543369                      -2.737154   \n",
       "44984  24.548369                       0.478224   \n",
       "44985  24.553369                       0.835628   \n",
       "44986  24.558369                       0.940185   \n",
       "44987  24.563369                       0.216398   \n",
       "...          ...                            ...   \n",
       "49978  49.518370                      -0.097531   \n",
       "49979  49.523370                       0.000420   \n",
       "49980  49.528370                       0.080823   \n",
       "49981  49.533370                      -0.072530   \n",
       "49982  49.538370                      -0.014167   \n",
       "\n",
       "       Linear Acceleration y (m/s^2)  Linear Acceleration z (m/s^2)  Section  \n",
       "44983                       2.317677                      28.762552        5  \n",
       "44984                       0.850334                     -10.163772        5  \n",
       "44985                      -0.861210                      -8.116422        5  \n",
       "44986                      -1.352423                       3.283479        5  \n",
       "44987                       1.000855                      -6.343028        5  \n",
       "...                              ...                            ...      ...  \n",
       "49978                       0.246785                      -0.046586        2  \n",
       "49979                       0.305819                      -0.467093        2  \n",
       "49980                      -0.409701                       0.436840        2  \n",
       "49981                       0.159599                      -0.059052        2  \n",
       "49982                       0.372183                      -0.492480        2  \n",
       "\n",
       "[5000 rows x 5 columns]"
      ]
     },
     "execution_count": 16,
     "metadata": {},
     "output_type": "execute_result"
    }
   ],
   "source": [
    "data = data[~data.Section.isin([7,1])]\n",
    "data.tail(5000)"
   ]
  },
  {
   "cell_type": "code",
   "execution_count": 17,
   "id": "7e4408c9",
   "metadata": {},
   "outputs": [],
   "source": [
    "imputer = SimpleImputer(strategy='mean')\n",
    "data_imputed = imputer.fit_transform(data)\n",
    "\n",
    "scaler = StandardScaler()\n",
    "data_scaled = scaler.fit_transform(data_imputed)\n",
    "\n",
    "data_scaled = data_scaled.reshape((data_scaled.shape[0], data_scaled.shape[1], 1))"
   ]
  },
  {
   "cell_type": "code",
   "execution_count": 18,
   "id": "37c4095a",
   "metadata": {},
   "outputs": [
    {
     "data": {
      "text/plain": [
       "(43999, 5, 1)"
      ]
     },
     "execution_count": 18,
     "metadata": {},
     "output_type": "execute_result"
    }
   ],
   "source": [
    "data_scaled.shape"
   ]
  },
  {
   "cell_type": "code",
   "execution_count": 19,
   "id": "ba68c3e6",
   "metadata": {},
   "outputs": [
    {
     "name": "stdout",
     "output_type": "stream",
     "text": [
      "1375/1375 [==============================] - 3s 2ms/step\n",
      "1375/1375 [==============================] - 4s 3ms/step\n"
     ]
    }
   ],
   "source": [
    "# Make predictions with each model\n",
    "y_pred_damp_loc = model_damp_loc.predict(data)\n",
    "y_pred_incl_loc = model_incl_loc.predict(data)\n",
    "\n",
    "# Decode predictions\n",
    "y_pred_damp_loc_decoded = np.argmax(y_pred_damp_loc, axis=1)\n",
    "y_pred_incl_loc_decoded = np.argmax(y_pred_incl_loc, axis=1)\n",
    "\n",
    "# Create a DataFrame to see the results\n",
    "predictions_df = pd.DataFrame({\n",
    "    'Predicted_Damping_Location': y_pred_damp_loc_decoded,\n",
    "    'Predicted_Inclination_Location': y_pred_incl_loc_decoded\n",
    "})"
   ]
  },
  {
   "cell_type": "code",
   "execution_count": 23,
   "id": "3d83f5dc",
   "metadata": {},
   "outputs": [
    {
     "data": {
      "text/plain": [
       "array([0], dtype=int64)"
      ]
     },
     "execution_count": 23,
     "metadata": {},
     "output_type": "execute_result"
    }
   ],
   "source": [
    "predictions_df['Predicted_Damping_Location'].unique()"
   ]
  },
  {
   "cell_type": "code",
   "execution_count": null,
   "id": "ac952d76",
   "metadata": {},
   "outputs": [],
   "source": []
  }
 ],
 "metadata": {
  "kernelspec": {
   "display_name": "Python 3 (ipykernel)",
   "language": "python",
   "name": "python3"
  },
  "language_info": {
   "codemirror_mode": {
    "name": "ipython",
    "version": 3
   },
   "file_extension": ".py",
   "mimetype": "text/x-python",
   "name": "python",
   "nbconvert_exporter": "python",
   "pygments_lexer": "ipython3",
   "version": "3.8.18"
  }
 },
 "nbformat": 4,
 "nbformat_minor": 5
}
